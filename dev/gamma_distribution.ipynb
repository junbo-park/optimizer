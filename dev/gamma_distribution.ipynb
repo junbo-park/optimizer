{
 "cells": [
  {
   "cell_type": "markdown",
   "id": "423936c2",
   "metadata": {},
   "source": [
    "## Description\n",
    "\n",
    "This jupyter notebook shows how we can fit a gamma distribution to our data. \n",
    "Gamma distribution has two hyper parameters (alpha, beta) while we could draw from\n",
    "a bivariate posterior distribution, we instead fix alpha and draw beta. \n",
    "\n",
    "We justify that by showing that for our data, alpha is quite stable--the shape of \n",
    "the pubrev distributions are stable--while beta, which determines the rate, can vary\n",
    "a lot depending on the input data."
   ]
  },
  {
   "cell_type": "code",
   "execution_count": 1,
   "id": "b7c97189",
   "metadata": {},
   "outputs": [],
   "source": [
    "import os\n",
    "\n",
    "from scipy.optimize import minimize\n",
    "from scipy.stats import beta, gamma, norm\n",
    "from scipy.special import gamma as gamma_func\n",
    "\n",
    "import matplotlib.pyplot as plt\n",
    "import numpy as np\n",
    "import pandas as pd\n",
    "import scipy.integrate as integrate\n",
    "\n",
    "from utils import get_bigquery_result\n",
    "\n",
    "%matplotlib inline"
   ]
  },
  {
   "cell_type": "markdown",
   "id": "8526a9b2",
   "metadata": {},
   "source": [
    "## Gamma process\n",
    "\n",
    "Gamma process can be described as a collection of Poisson processes.\n",
    "\n",
    "We can understand it better with an example. We can think of the process of observing an auction event that resulted in pubrev = x. For each pubrev, however, we have an associated rate of observation. The rate is determined by P(x)dx where P(x) is the gamma distribution. \n",
    "\n",
    "Gamma distribution therefore is a compact way of expressing multiple Poisson processes. It also puts in a constraint on rate distribution in that P(x), the rate of occurence, follows the gamma distribution. In real life, the rate of occurence may not be well described by gamma distribution."
   ]
  },
  {
   "cell_type": "markdown",
   "id": "4397e677",
   "metadata": {},
   "source": [
    "### Plot gamma distribution\n",
    "We plot different gamma distributions with different shape parameter, alpha. We can see that the shape parameter determines whether the distribution \n",
    "* (alpha < 1) diverge at x = 0 \n",
    "* (alpha = 1) has finite y-intercept at x = 0\n",
    "* (alpha > 1) has zero y-intercept at x = 0"
   ]
  },
  {
   "cell_type": "code",
   "execution_count": 2,
   "id": "0603f534",
   "metadata": {},
   "outputs": [
    {
     "data": {
      "image/png": "[encoded data removed]",
      "text/plain": [
       "<Figure size 432x288 with 1 Axes>"
      ]
     },
     "metadata": {
      "needs_background": "light"
     },
     "output_type": "display_data"
    }
   ],
   "source": [
    "\"\"\" Plot the gamma distribution with different shape parameter, alpha \"\"\"\n",
    "x = np.linspace(1e-3, 10, 100)\n",
    "beta = 1.5\n",
    "\n",
    "fig, ax = plt.subplots(figsize=(6, 4))\n",
    "for alpha in [0.5, 1, 2]:\n",
    "    gamma = beta ** alpha / gamma_func(alpha)\n",
    "    v = gamma * x ** (alpha - 1) * np.exp(-beta * x)\n",
    "    ax.plot(x, v, label=f\"alpha={alpha}\")\n",
    "    \n",
    "    ax.set_xlim(0, 4)\n",
    "    ax.set_ylim(0, 2)\n",
    "    ax.legend(fontsize=12)\n",
    "    ax.set_xlabel(\"x\", fontsize=14)\n",
    "    ax.set_ylabel(\"P(x)\", fontsize=14)"
   ]
  },
  {
   "cell_type": "markdown",
   "id": "8762bea8",
   "metadata": {},
   "source": [
    "## Fitting to data"
   ]
  },
  {
   "cell_type": "markdown",
   "id": "10064e22",
   "metadata": {},
   "source": [
    "### Load the data"
   ]
  },
  {
   "cell_type": "code",
   "execution_count": 3,
   "id": "2f3796dd",
   "metadata": {},
   "outputs": [
    {
     "name": "stdout",
     "output_type": "stream",
     "text": [
      "Loaded from cached file..\n"
     ]
    }
   ],
   "source": [
    "\"\"\" Load the data \"\"\"\n",
    "query_template = open(\"sql/eda_query.sql\", \"r\").read()\n",
    "params = {\n",
    "    \"start_time\": \"2021-10-28 12:00:00\",\n",
    "    \"end_time\": \"2021-10-29 12:00:00\"\n",
    "}\n",
    "sql = query_template.format(**params)\n",
    "filepath = \"input/gamma_distribution_data.csv\"\n",
    "\n",
    "df = get_bigquery_result(sql, filepath=filepath, gcp_project=\"ox-datascience-devint\")\n",
    "\n",
    "# add cpm_usd column\n",
    "min_micro_usd = 1\n",
    "df[\"cpm_usd\"] = (df[\"pubrev\"] + min_micro_usd) / 1e6"
   ]
  },
  {
   "cell_type": "code",
   "execution_count": 4,
   "id": "7600b13e",
   "metadata": {},
   "outputs": [
    {
     "data": {
      "text/html": [
       "<div>\n",
       "<style scoped>\n",
       "    .dataframe tbody tr th:only-of-type {\n",
       "        vertical-align: middle;\n",
       "    }\n",
       "\n",
       "    .dataframe tbody tr th {\n",
       "        vertical-align: top;\n",
       "    }\n",
       "\n",
       "    .dataframe thead th {\n",
       "        text-align: right;\n",
       "    }\n",
       "</style>\n",
       "<table border=\"1\" class=\"dataframe\">\n",
       "  <thead>\n",
       "    <tr style=\"text-align: right;\">\n",
       "      <th></th>\n",
       "      <th>auction_hour</th>\n",
       "      <th>bidderTimeout</th>\n",
       "      <th>win</th>\n",
       "      <th>pubrev</th>\n",
       "      <th>cpm_usd</th>\n",
       "    </tr>\n",
       "  </thead>\n",
       "  <tbody>\n",
       "    <tr>\n",
       "      <th>0</th>\n",
       "      <td>20</td>\n",
       "      <td>1500</td>\n",
       "      <td>0</td>\n",
       "      <td>0</td>\n",
       "      <td>0.000001</td>\n",
       "    </tr>\n",
       "    <tr>\n",
       "      <th>1</th>\n",
       "      <td>20</td>\n",
       "      <td>1500</td>\n",
       "      <td>0</td>\n",
       "      <td>0</td>\n",
       "      <td>0.000001</td>\n",
       "    </tr>\n",
       "    <tr>\n",
       "      <th>2</th>\n",
       "      <td>20</td>\n",
       "      <td>1500</td>\n",
       "      <td>0</td>\n",
       "      <td>0</td>\n",
       "      <td>0.000001</td>\n",
       "    </tr>\n",
       "    <tr>\n",
       "      <th>3</th>\n",
       "      <td>20</td>\n",
       "      <td>1500</td>\n",
       "      <td>0</td>\n",
       "      <td>0</td>\n",
       "      <td>0.000001</td>\n",
       "    </tr>\n",
       "    <tr>\n",
       "      <th>4</th>\n",
       "      <td>20</td>\n",
       "      <td>1500</td>\n",
       "      <td>0</td>\n",
       "      <td>0</td>\n",
       "      <td>0.000001</td>\n",
       "    </tr>\n",
       "  </tbody>\n",
       "</table>\n",
       "</div>"
      ],
      "text/plain": [
       "   auction_hour  bidderTimeout  win  pubrev   cpm_usd\n",
       "0            20           1500    0       0  0.000001\n",
       "1            20           1500    0       0  0.000001\n",
       "2            20           1500    0       0  0.000001\n",
       "3            20           1500    0       0  0.000001\n",
       "4            20           1500    0       0  0.000001"
      ]
     },
     "metadata": {},
     "output_type": "display_data"
    },
    {
     "data": {
      "text/html": [
       "<div>\n",
       "<style scoped>\n",
       "    .dataframe tbody tr th:only-of-type {\n",
       "        vertical-align: middle;\n",
       "    }\n",
       "\n",
       "    .dataframe tbody tr th {\n",
       "        vertical-align: top;\n",
       "    }\n",
       "\n",
       "    .dataframe thead th {\n",
       "        text-align: right;\n",
       "    }\n",
       "</style>\n",
       "<table border=\"1\" class=\"dataframe\">\n",
       "  <thead>\n",
       "    <tr style=\"text-align: right;\">\n",
       "      <th></th>\n",
       "      <th>auction_hour</th>\n",
       "      <th>bidderTimeout</th>\n",
       "      <th>win</th>\n",
       "      <th>pubrev</th>\n",
       "      <th>cpm_usd</th>\n",
       "    </tr>\n",
       "  </thead>\n",
       "  <tbody>\n",
       "    <tr>\n",
       "      <th>count</th>\n",
       "      <td>506298.000000</td>\n",
       "      <td>506298.000000</td>\n",
       "      <td>506298.000000</td>\n",
       "      <td>5.062980e+05</td>\n",
       "      <td>506298.000000</td>\n",
       "    </tr>\n",
       "    <tr>\n",
       "      <th>mean</th>\n",
       "      <td>8.383055</td>\n",
       "      <td>1677.271686</td>\n",
       "      <td>0.128695</td>\n",
       "      <td>2.918649e+05</td>\n",
       "      <td>0.291866</td>\n",
       "    </tr>\n",
       "    <tr>\n",
       "      <th>std</th>\n",
       "      <td>5.202186</td>\n",
       "      <td>635.620261</td>\n",
       "      <td>0.334862</td>\n",
       "      <td>1.420844e+06</td>\n",
       "      <td>1.420844</td>\n",
       "    </tr>\n",
       "    <tr>\n",
       "      <th>min</th>\n",
       "      <td>0.000000</td>\n",
       "      <td>600.000000</td>\n",
       "      <td>0.000000</td>\n",
       "      <td>0.000000e+00</td>\n",
       "      <td>0.000001</td>\n",
       "    </tr>\n",
       "    <tr>\n",
       "      <th>25%</th>\n",
       "      <td>4.000000</td>\n",
       "      <td>1000.000000</td>\n",
       "      <td>0.000000</td>\n",
       "      <td>0.000000e+00</td>\n",
       "      <td>0.000001</td>\n",
       "    </tr>\n",
       "    <tr>\n",
       "      <th>50%</th>\n",
       "      <td>8.000000</td>\n",
       "      <td>1500.000000</td>\n",
       "      <td>0.000000</td>\n",
       "      <td>0.000000e+00</td>\n",
       "      <td>0.000001</td>\n",
       "    </tr>\n",
       "    <tr>\n",
       "      <th>75%</th>\n",
       "      <td>12.000000</td>\n",
       "      <td>2500.000000</td>\n",
       "      <td>0.000000</td>\n",
       "      <td>0.000000e+00</td>\n",
       "      <td>0.000001</td>\n",
       "    </tr>\n",
       "    <tr>\n",
       "      <th>max</th>\n",
       "      <td>23.000000</td>\n",
       "      <td>3000.000000</td>\n",
       "      <td>1.000000</td>\n",
       "      <td>8.133487e+07</td>\n",
       "      <td>81.334870</td>\n",
       "    </tr>\n",
       "  </tbody>\n",
       "</table>\n",
       "</div>"
      ],
      "text/plain": [
       "        auction_hour  bidderTimeout            win        pubrev  \\\n",
       "count  506298.000000  506298.000000  506298.000000  5.062980e+05   \n",
       "mean        8.383055    1677.271686       0.128695  2.918649e+05   \n",
       "std         5.202186     635.620261       0.334862  1.420844e+06   \n",
       "min         0.000000     600.000000       0.000000  0.000000e+00   \n",
       "25%         4.000000    1000.000000       0.000000  0.000000e+00   \n",
       "50%         8.000000    1500.000000       0.000000  0.000000e+00   \n",
       "75%        12.000000    2500.000000       0.000000  0.000000e+00   \n",
       "max        23.000000    3000.000000       1.000000  8.133487e+07   \n",
       "\n",
       "             cpm_usd  \n",
       "count  506298.000000  \n",
       "mean        0.291866  \n",
       "std         1.420844  \n",
       "min         0.000001  \n",
       "25%         0.000001  \n",
       "50%         0.000001  \n",
       "75%         0.000001  \n",
       "max        81.334870  "
      ]
     },
     "metadata": {},
     "output_type": "display_data"
    }
   ],
   "source": [
    "display(df.head())\n",
    "display(df.describe())"
   ]
  },
  {
   "cell_type": "markdown",
   "id": "4f1460f3",
   "metadata": {},
   "source": [
    "### Plot beta posterior"
   ]
  },
  {
   "cell_type": "code",
   "execution_count": 5,
   "id": "42ebf7e6",
   "metadata": {},
   "outputs": [],
   "source": [
    "\"\"\" Plot un-normalized beta posterior distribution \"\"\"\n",
    "def plot_beta_posterior(df, alpha=0.5):\n",
    "    a0 = 2\n",
    "    b0 = 2\n",
    "    \n",
    "    n = len(df)\n",
    "    sum_x = df[\"cpm_usd\"].sum()\n",
    "    \n",
    "    a = alpha * n + a0\n",
    "    b = b0 / (1 + b0 * sum_x)\n",
    "      \n",
    "    beta_left = (a-1) * b * 0.9\n",
    "    beta_right = (a-1) * b * 1.1\n",
    "    \n",
    "    print(f\"optimal beta: {(a-1) * b:.3f}\")\n",
    "\n",
    "    betas = np.linspace(beta_left, beta_right, 100)\n",
    "    exponent = lambda beta: (a-1) * np.log(beta * np.e / (a-1)) - beta / b - a * np.log(b)    \n",
    "    \n",
    "    exponents = [exponent(x) for x in betas]\n",
    "    unscaled_posteriors = np.exp(exponents) / np.sqrt(2 * np.pi * (a-1))\n",
    "    \n",
    "    fig, ax = plt.subplots()\n",
    "    ax.plot(betas, unscaled_posteriors)\n",
    "    ax.set_xlabel(\"beta\", fontsize=13)\n",
    "    ax.set_ylabel(\"P(beta) [arb. unit]\", fontsize=13)\n",
    "    ax.set_title(\"Beta posterior distribution (not normalized)\", fontsize=15)"
   ]
  },
  {
   "cell_type": "code",
   "execution_count": 6,
   "id": "21de7907",
   "metadata": {},
   "outputs": [
    {
     "name": "stdout",
     "output_type": "stream",
     "text": [
      "optimal beta: 0.272\n"
     ]
    },
    {
     "data": {
      "image/png": "[encoded data removed]",
      "text/plain": [
       "<Figure size 432x288 with 1 Axes>"
      ]
     },
     "metadata": {
      "needs_background": "light"
     },
     "output_type": "display_data"
    }
   ],
   "source": [
    "sub_df = df[df[\"bidderTimeout\"] == 1500]\n",
    "plot_beta_posterior(sub_df, alpha=0.08)"
   ]
  },
  {
   "cell_type": "markdown",
   "id": "d32b09d7",
   "metadata": {},
   "source": [
    "### Plot alpha posterior"
   ]
  },
  {
   "cell_type": "code",
   "execution_count": 7,
   "id": "72dead45",
   "metadata": {},
   "outputs": [],
   "source": [
    "\"\"\" Plots the log posterior of alpha \"\"\"\n",
    "def plot_alpha_log_posterior(df, beta=0.1):\n",
    "    a0 = 1\n",
    "    b0 = 1\n",
    "    c0 = 1\n",
    "    \n",
    "    n = len(df)\n",
    "    prod_x = df[\"cpm_usd\"].prod()\n",
    "    sum_log_x = np.log(df[\"cpm_usd\"]).sum()\n",
    "    \n",
    "    a = a0 * prod_x\n",
    "    b = b0 + n\n",
    "    c = c0 + n\n",
    "\n",
    "    np_log_a = np.log(a0) + sum_log_x\n",
    "\n",
    "    alphas = np.linspace(0.01, 0.3, 100)\n",
    "\n",
    "    exponent = lambda alpha: -1 * ((alpha - 1) * np_log_a + alpha * c * np.log(beta) - b * np.log(gamma_func(alpha)))\n",
    "\n",
    "    print(f\"optimal alpha {minimize(exponent, 0.05)['x'][0]:.4f}\")\n",
    "    \n",
    "    exponents = [exponent(x) for x in alphas]\n",
    "\n",
    "    fig, ax = plt.subplots()\n",
    "    ax.plot(alphas, exponents)\n",
    "    ax.set_xlabel(\"alpha\", fontsize=13)\n",
    "    ax.set_ylabel(\"log P(alpha) [arb. unit]\", fontsize=13)\n",
    "    ax.set_title(\"log alpha posterior distribution (not normalized)\", fontsize=15)"
   ]
  },
  {
   "cell_type": "code",
   "execution_count": 8,
   "id": "38421155",
   "metadata": {},
   "outputs": [
    {
     "name": "stdout",
     "output_type": "stream",
     "text": [
      "optimal alpha 0.0782\n"
     ]
    },
    {
     "data": {
      "image/png": "[encoded data removed]",
      "text/plain": [
       "<Figure size 432x288 with 1 Axes>"
      ]
     },
     "metadata": {
      "needs_background": "light"
     },
     "output_type": "display_data"
    }
   ],
   "source": [
    "sub_df = df[df[\"bidderTimeout\"] == 1500]\n",
    "plot_alpha_log_posterior(sub_df, beta=0.272)"
   ]
  },
  {
   "cell_type": "markdown",
   "id": "a4d39ac5",
   "metadata": {},
   "source": [
    "### Fit iteratively to get optimal alpha and beta"
   ]
  },
  {
   "cell_type": "code",
   "execution_count": 9,
   "id": "f3fa67c6",
   "metadata": {},
   "outputs": [],
   "source": [
    "\"\"\" Get optimal alpha. Since there is no analytic solution, we numerically calculate the optimal alpha \"\"\"\n",
    "def get_optimal_alpha(df, beta):\n",
    "    a0 = 1\n",
    "    b0 = 1\n",
    "    c0 = 1\n",
    "    \n",
    "    n = len(df)\n",
    "    prod_x = df[\"cpm_usd\"].prod()\n",
    "    sum_log_x = np.log(df[\"cpm_usd\"]).sum()\n",
    "    \n",
    "    b = b0 + n\n",
    "    c = c0 + n\n",
    "\n",
    "    np_log_a = np.log(a0) + sum_log_x\n",
    "    \n",
    "    exponent = lambda alpha: -1 * ((alpha - 1) * np_log_a + alpha * c * np.log(beta) - b * np.log(gamma_func(alpha)))\n",
    "    \n",
    "    return minimize(exponent, 0.05)[\"x\"][0]\n"
   ]
  },
  {
   "cell_type": "code",
   "execution_count": 10,
   "id": "38902441",
   "metadata": {},
   "outputs": [],
   "source": [
    "\"\"\" Get optimal beta. We can differentiate the posterior distribution to get the exact solution \"\"\"\n",
    "def get_optimal_beta(df, alpha):\n",
    "    a0 = 2\n",
    "    b0 = 2\n",
    "    \n",
    "    n = len(df)\n",
    "    sum_x = df[\"cpm_usd\"].sum()\n",
    "    \n",
    "    a = alpha * n + a0\n",
    "    b = b0 / (1 + b0 * sum_x)\n",
    "        \n",
    "    return (a-1) * b"
   ]
  },
  {
   "cell_type": "code",
   "execution_count": 11,
   "id": "3b0c802b",
   "metadata": {},
   "outputs": [
    {
     "data": {
      "image/png": "[encoded data removed]",
      "text/plain": [
       "<Figure size 720x288 with 2 Axes>"
      ]
     },
     "metadata": {
      "needs_background": "light"
     },
     "output_type": "display_data"
    }
   ],
   "source": [
    "\"\"\" Take n hours of data and fit alpha and beta. Confirm that alpha is stable and it's beta that we have to fix \"\"\"\n",
    "optimal_betas = []\n",
    "optimal_alphas = []\n",
    "\n",
    "df_1500ms = df[df[\"bidderTimeout\"] == 1500]\n",
    "for hour_lim in range(1, 24):\n",
    "    hours = [x for x in range(hour_lim)]\n",
    "    sub_df = df_1500ms[df_1500ms[\"auction_hour\"] < hour_lim]\n",
    "\n",
    "    optimal_alpha = 0.08\n",
    "    for _ in range(5):\n",
    "        optimal_beta = get_optimal_beta(sub_df, alpha=optimal_alpha)\n",
    "        optimal_alpha = get_optimal_alpha(sub_df, beta=optimal_beta)\n",
    "    \n",
    "    optimal_betas.append(optimal_beta)\n",
    "    optimal_alphas.append(optimal_alpha)\n",
    "\n",
    "fig, axes = plt.subplots(1, 2, figsize=(10,4))\n",
    "axes[0].plot(optimal_alphas)\n",
    "axes[0].set_title(\"Optimal alphas\", fontsize=14)\n",
    "axes[1].plot(optimal_betas)\n",
    "axes[1].set_title(\"Optimal betas\", fontsize=14)\n",
    "axes[0].set_xlabel(\"hour range = [0, x)\", fontsize=13)\n",
    "axes[1].set_xlabel(\"hour range = [0, x)\", fontsize=13)\n",
    "axes[0].set_ylabel(\"optimal alpha\", fontsize=13)\n",
    "axes[1].set_ylabel(\"optimal beta\", fontsize=13)\n",
    "\n",
    "fig.tight_layout()\n",
    "\n",
    "if not os.path.exists(\"output/\"):\n",
    "    os.mkdir(\"output\")\n",
    "fig.savefig(\"output/gamma_distribution_optimal_alpha_beta.png\", dpi=150)"
   ]
  }
 ],
 "metadata": {
  "kernelspec": {
   "display_name": "Python 3 (ipykernel)",
   "language": "python",
   "name": "python3"
  },
  "language_info": {
   "codemirror_mode": {
    "name": "ipython",
    "version": 3
   },
   "file_extension": ".py",
   "mimetype": "text/x-python",
   "name": "python",
   "nbconvert_exporter": "python",
   "pygments_lexer": "ipython3",
   "version": "3.8.6"
  }
 },
 "nbformat": 4,
 "nbformat_minor": 5
}
